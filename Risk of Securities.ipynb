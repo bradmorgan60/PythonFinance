{
 "cells": [
  {
   "cell_type": "code",
   "execution_count": 44,
   "metadata": {},
   "outputs": [],
   "source": [
    "import numpy as np\n",
    "import pandas as pd\n",
    "from pandas_datareader import data as wb\n",
    "import matplotlib.pyplot as plt"
   ]
  },
  {
   "cell_type": "code",
   "execution_count": 7,
   "metadata": {},
   "outputs": [],
   "source": [
    "CashApp = ['TSLA','MSFT','GOOGL','AMZN','HD']\n",
    "data = pd.DataFrame()\n",
    "\n",
    "for stocks in CashApp:\n",
    "    data[stocks] = wb.DataReader(stocks, data_source='yahoo', start='2010-07-16')['Adj Close']"
   ]
  },
  {
   "cell_type": "code",
   "execution_count": 8,
   "metadata": {},
   "outputs": [
    {
     "name": "stdout",
     "output_type": "stream",
     "text": [
      "<class 'pandas.core.frame.DataFrame'>\n",
      "DatetimeIndex: 2518 entries, 2010-07-16 to 2020-07-16\n",
      "Data columns (total 5 columns):\n",
      "TSLA     2518 non-null float64\n",
      "MSFT     2518 non-null float64\n",
      "GOOGL    2518 non-null float64\n",
      "AMZN     2518 non-null float64\n",
      "HD       2518 non-null float64\n",
      "dtypes: float64(5)\n",
      "memory usage: 118.0 KB\n"
     ]
    }
   ],
   "source": [
    "data.info()"
   ]
  },
  {
   "cell_type": "code",
   "execution_count": 9,
   "metadata": {},
   "outputs": [
    {
     "data": {
      "text/html": [
       "<div>\n",
       "<style scoped>\n",
       "    .dataframe tbody tr th:only-of-type {\n",
       "        vertical-align: middle;\n",
       "    }\n",
       "\n",
       "    .dataframe tbody tr th {\n",
       "        vertical-align: top;\n",
       "    }\n",
       "\n",
       "    .dataframe thead th {\n",
       "        text-align: right;\n",
       "    }\n",
       "</style>\n",
       "<table border=\"1\" class=\"dataframe\">\n",
       "  <thead>\n",
       "    <tr style=\"text-align: right;\">\n",
       "      <th></th>\n",
       "      <th>TSLA</th>\n",
       "      <th>MSFT</th>\n",
       "      <th>GOOGL</th>\n",
       "      <th>AMZN</th>\n",
       "      <th>HD</th>\n",
       "    </tr>\n",
       "    <tr>\n",
       "      <th>Date</th>\n",
       "      <th></th>\n",
       "      <th></th>\n",
       "      <th></th>\n",
       "      <th></th>\n",
       "      <th></th>\n",
       "    </tr>\n",
       "  </thead>\n",
       "  <tbody>\n",
       "    <tr>\n",
       "      <td>2010-07-16</td>\n",
       "      <td>20.639999</td>\n",
       "      <td>19.662710</td>\n",
       "      <td>230.035034</td>\n",
       "      <td>118.489998</td>\n",
       "      <td>21.434902</td>\n",
       "    </tr>\n",
       "    <tr>\n",
       "      <td>2010-07-19</td>\n",
       "      <td>21.910000</td>\n",
       "      <td>19.931303</td>\n",
       "      <td>233.323318</td>\n",
       "      <td>119.940002</td>\n",
       "      <td>21.403278</td>\n",
       "    </tr>\n",
       "    <tr>\n",
       "      <td>2010-07-20</td>\n",
       "      <td>20.299999</td>\n",
       "      <td>20.128799</td>\n",
       "      <td>241.036041</td>\n",
       "      <td>120.099998</td>\n",
       "      <td>22.083250</td>\n",
       "    </tr>\n",
       "    <tr>\n",
       "      <td>2010-07-21</td>\n",
       "      <td>20.219999</td>\n",
       "      <td>19.844406</td>\n",
       "      <td>238.988983</td>\n",
       "      <td>117.430000</td>\n",
       "      <td>21.719545</td>\n",
       "    </tr>\n",
       "    <tr>\n",
       "      <td>2010-07-22</td>\n",
       "      <td>21.000000</td>\n",
       "      <td>20.413197</td>\n",
       "      <td>242.647644</td>\n",
       "      <td>120.070000</td>\n",
       "      <td>22.312536</td>\n",
       "    </tr>\n",
       "  </tbody>\n",
       "</table>\n",
       "</div>"
      ],
      "text/plain": [
       "                 TSLA       MSFT       GOOGL        AMZN         HD\n",
       "Date                                                               \n",
       "2010-07-16  20.639999  19.662710  230.035034  118.489998  21.434902\n",
       "2010-07-19  21.910000  19.931303  233.323318  119.940002  21.403278\n",
       "2010-07-20  20.299999  20.128799  241.036041  120.099998  22.083250\n",
       "2010-07-21  20.219999  19.844406  238.988983  117.430000  21.719545\n",
       "2010-07-22  21.000000  20.413197  242.647644  120.070000  22.312536"
      ]
     },
     "execution_count": 9,
     "metadata": {},
     "output_type": "execute_result"
    }
   ],
   "source": [
    "data.head()"
   ]
  },
  {
   "cell_type": "code",
   "execution_count": 10,
   "metadata": {},
   "outputs": [
    {
     "data": {
      "text/html": [
       "<div>\n",
       "<style scoped>\n",
       "    .dataframe tbody tr th:only-of-type {\n",
       "        vertical-align: middle;\n",
       "    }\n",
       "\n",
       "    .dataframe tbody tr th {\n",
       "        vertical-align: top;\n",
       "    }\n",
       "\n",
       "    .dataframe thead th {\n",
       "        text-align: right;\n",
       "    }\n",
       "</style>\n",
       "<table border=\"1\" class=\"dataframe\">\n",
       "  <thead>\n",
       "    <tr style=\"text-align: right;\">\n",
       "      <th></th>\n",
       "      <th>TSLA</th>\n",
       "      <th>MSFT</th>\n",
       "      <th>GOOGL</th>\n",
       "      <th>AMZN</th>\n",
       "      <th>HD</th>\n",
       "    </tr>\n",
       "    <tr>\n",
       "      <th>Date</th>\n",
       "      <th></th>\n",
       "      <th></th>\n",
       "      <th></th>\n",
       "      <th></th>\n",
       "      <th></th>\n",
       "    </tr>\n",
       "  </thead>\n",
       "  <tbody>\n",
       "    <tr>\n",
       "      <td>2020-07-10</td>\n",
       "      <td>1544.650024</td>\n",
       "      <td>213.669998</td>\n",
       "      <td>1539.010010</td>\n",
       "      <td>3200.000000</td>\n",
       "      <td>250.110001</td>\n",
       "    </tr>\n",
       "    <tr>\n",
       "      <td>2020-07-13</td>\n",
       "      <td>1497.060059</td>\n",
       "      <td>207.070007</td>\n",
       "      <td>1512.229980</td>\n",
       "      <td>3104.000000</td>\n",
       "      <td>249.619995</td>\n",
       "    </tr>\n",
       "    <tr>\n",
       "      <td>2020-07-14</td>\n",
       "      <td>1516.800049</td>\n",
       "      <td>208.350006</td>\n",
       "      <td>1520.859985</td>\n",
       "      <td>3084.000000</td>\n",
       "      <td>257.790009</td>\n",
       "    </tr>\n",
       "    <tr>\n",
       "      <td>2020-07-15</td>\n",
       "      <td>1546.010010</td>\n",
       "      <td>208.039993</td>\n",
       "      <td>1516.880005</td>\n",
       "      <td>3008.870117</td>\n",
       "      <td>257.799988</td>\n",
       "    </tr>\n",
       "    <tr>\n",
       "      <td>2020-07-16</td>\n",
       "      <td>1500.640015</td>\n",
       "      <td>203.919998</td>\n",
       "      <td>1514.920044</td>\n",
       "      <td>2999.899902</td>\n",
       "      <td>258.079987</td>\n",
       "    </tr>\n",
       "  </tbody>\n",
       "</table>\n",
       "</div>"
      ],
      "text/plain": [
       "                   TSLA        MSFT        GOOGL         AMZN          HD\n",
       "Date                                                                     \n",
       "2020-07-10  1544.650024  213.669998  1539.010010  3200.000000  250.110001\n",
       "2020-07-13  1497.060059  207.070007  1512.229980  3104.000000  249.619995\n",
       "2020-07-14  1516.800049  208.350006  1520.859985  3084.000000  257.790009\n",
       "2020-07-15  1546.010010  208.039993  1516.880005  3008.870117  257.799988\n",
       "2020-07-16  1500.640015  203.919998  1514.920044  2999.899902  258.079987"
      ]
     },
     "execution_count": 10,
     "metadata": {},
     "output_type": "execute_result"
    }
   ],
   "source": [
    "data.tail()"
   ]
  },
  {
   "cell_type": "code",
   "execution_count": 21,
   "metadata": {},
   "outputs": [
    {
     "data": {
      "text/plain": [
       "TSLA      20.639999\n",
       "MSFT      19.662710\n",
       "GOOGL    230.035034\n",
       "AMZN     118.489998\n",
       "HD        21.434902\n",
       "Name: 2010-07-16 00:00:00, dtype: float64"
      ]
     },
     "execution_count": 21,
     "metadata": {},
     "output_type": "execute_result"
    }
   ],
   "source": [
    "data.iloc[0]\n",
    "# shows the first row at 2010-07-17"
   ]
  },
  {
   "cell_type": "code",
   "execution_count": 12,
   "metadata": {
    "scrolled": true
   },
   "outputs": [
    {
     "data": {
      "text/html": [
       "<div>\n",
       "<style scoped>\n",
       "    .dataframe tbody tr th:only-of-type {\n",
       "        vertical-align: middle;\n",
       "    }\n",
       "\n",
       "    .dataframe tbody tr th {\n",
       "        vertical-align: top;\n",
       "    }\n",
       "\n",
       "    .dataframe thead th {\n",
       "        text-align: right;\n",
       "    }\n",
       "</style>\n",
       "<table border=\"1\" class=\"dataframe\">\n",
       "  <thead>\n",
       "    <tr style=\"text-align: right;\">\n",
       "      <th></th>\n",
       "      <th>TSLA</th>\n",
       "      <th>MSFT</th>\n",
       "      <th>GOOGL</th>\n",
       "      <th>AMZN</th>\n",
       "      <th>HD</th>\n",
       "    </tr>\n",
       "    <tr>\n",
       "      <th>Date</th>\n",
       "      <th></th>\n",
       "      <th></th>\n",
       "      <th></th>\n",
       "      <th></th>\n",
       "      <th></th>\n",
       "    </tr>\n",
       "  </thead>\n",
       "  <tbody>\n",
       "    <tr>\n",
       "      <td>2020-07-10</td>\n",
       "      <td>0.107848</td>\n",
       "      <td>-0.003033</td>\n",
       "      <td>0.013400</td>\n",
       "      <td>0.005458</td>\n",
       "      <td>0.008671</td>\n",
       "    </tr>\n",
       "    <tr>\n",
       "      <td>2020-07-13</td>\n",
       "      <td>-0.030810</td>\n",
       "      <td>-0.030889</td>\n",
       "      <td>-0.017401</td>\n",
       "      <td>-0.030000</td>\n",
       "      <td>-0.001959</td>\n",
       "    </tr>\n",
       "    <tr>\n",
       "      <td>2020-07-14</td>\n",
       "      <td>0.013186</td>\n",
       "      <td>0.006181</td>\n",
       "      <td>0.005707</td>\n",
       "      <td>-0.006443</td>\n",
       "      <td>0.032730</td>\n",
       "    </tr>\n",
       "    <tr>\n",
       "      <td>2020-07-15</td>\n",
       "      <td>0.019258</td>\n",
       "      <td>-0.001488</td>\n",
       "      <td>-0.002617</td>\n",
       "      <td>-0.024361</td>\n",
       "      <td>0.000039</td>\n",
       "    </tr>\n",
       "    <tr>\n",
       "      <td>2020-07-16</td>\n",
       "      <td>-0.029347</td>\n",
       "      <td>-0.019804</td>\n",
       "      <td>-0.001292</td>\n",
       "      <td>-0.002981</td>\n",
       "      <td>0.001086</td>\n",
       "    </tr>\n",
       "  </tbody>\n",
       "</table>\n",
       "</div>"
      ],
      "text/plain": [
       "                TSLA      MSFT     GOOGL      AMZN        HD\n",
       "Date                                                        \n",
       "2020-07-10  0.107848 -0.003033  0.013400  0.005458  0.008671\n",
       "2020-07-13 -0.030810 -0.030889 -0.017401 -0.030000 -0.001959\n",
       "2020-07-14  0.013186  0.006181  0.005707 -0.006443  0.032730\n",
       "2020-07-15  0.019258 -0.001488 -0.002617 -0.024361  0.000039\n",
       "2020-07-16 -0.029347 -0.019804 -0.001292 -0.002981  0.001086"
      ]
     },
     "execution_count": 12,
     "metadata": {},
     "output_type": "execute_result"
    }
   ],
   "source": [
    "returns = (data / data.shift(1)) - 1\n",
    "returns.tail()\n",
    "#simple return percentage for the latest results"
   ]
  },
  {
   "cell_type": "code",
   "execution_count": 14,
   "metadata": {
    "scrolled": true
   },
   "outputs": [
    {
     "name": "stdout",
     "output_type": "stream",
     "text": [
      "TSLA     0.572011\n",
      "MSFT     0.263877\n",
      "GOOGL    0.219663\n",
      "AMZN     0.369623\n",
      "HD       0.273838\n",
      "dtype: float64\n"
     ]
    }
   ],
   "source": [
    "annual_returns = returns.mean()*250\n",
    "print(annual_returns)"
   ]
  },
  {
   "cell_type": "code",
   "execution_count": 43,
   "metadata": {},
   "outputs": [
    {
     "data": {
      "text/html": [
       "<div>\n",
       "<style scoped>\n",
       "    .dataframe tbody tr th:only-of-type {\n",
       "        vertical-align: middle;\n",
       "    }\n",
       "\n",
       "    .dataframe tbody tr th {\n",
       "        vertical-align: top;\n",
       "    }\n",
       "\n",
       "    .dataframe thead th {\n",
       "        text-align: right;\n",
       "    }\n",
       "</style>\n",
       "<table border=\"1\" class=\"dataframe\">\n",
       "  <thead>\n",
       "    <tr style=\"text-align: right;\">\n",
       "      <th></th>\n",
       "      <th>TSLA</th>\n",
       "      <th>MSFT</th>\n",
       "      <th>GOOGL</th>\n",
       "      <th>AMZN</th>\n",
       "      <th>HD</th>\n",
       "    </tr>\n",
       "    <tr>\n",
       "      <th>Date</th>\n",
       "      <th></th>\n",
       "      <th></th>\n",
       "      <th></th>\n",
       "      <th></th>\n",
       "      <th></th>\n",
       "    </tr>\n",
       "  </thead>\n",
       "  <tbody>\n",
       "    <tr>\n",
       "      <td>2010-07-16</td>\n",
       "      <td>NaN</td>\n",
       "      <td>NaN</td>\n",
       "      <td>NaN</td>\n",
       "      <td>NaN</td>\n",
       "      <td>NaN</td>\n",
       "    </tr>\n",
       "    <tr>\n",
       "      <td>2010-07-19</td>\n",
       "      <td>0.059712</td>\n",
       "      <td>0.013568</td>\n",
       "      <td>0.014194</td>\n",
       "      <td>0.012163</td>\n",
       "      <td>-0.001476</td>\n",
       "    </tr>\n",
       "    <tr>\n",
       "      <td>2010-07-20</td>\n",
       "      <td>-0.076322</td>\n",
       "      <td>0.009860</td>\n",
       "      <td>0.032521</td>\n",
       "      <td>0.001333</td>\n",
       "      <td>0.031275</td>\n",
       "    </tr>\n",
       "    <tr>\n",
       "      <td>2010-07-21</td>\n",
       "      <td>-0.003949</td>\n",
       "      <td>-0.014229</td>\n",
       "      <td>-0.008529</td>\n",
       "      <td>-0.022482</td>\n",
       "      <td>-0.016607</td>\n",
       "    </tr>\n",
       "    <tr>\n",
       "      <td>2010-07-22</td>\n",
       "      <td>0.037850</td>\n",
       "      <td>0.028259</td>\n",
       "      <td>0.015193</td>\n",
       "      <td>0.022232</td>\n",
       "      <td>0.026936</td>\n",
       "    </tr>\n",
       "    <tr>\n",
       "      <td>...</td>\n",
       "      <td>...</td>\n",
       "      <td>...</td>\n",
       "      <td>...</td>\n",
       "      <td>...</td>\n",
       "      <td>...</td>\n",
       "    </tr>\n",
       "    <tr>\n",
       "      <td>2020-07-10</td>\n",
       "      <td>0.102419</td>\n",
       "      <td>-0.003037</td>\n",
       "      <td>0.013311</td>\n",
       "      <td>0.005443</td>\n",
       "      <td>0.008633</td>\n",
       "    </tr>\n",
       "    <tr>\n",
       "      <td>2020-07-13</td>\n",
       "      <td>-0.031294</td>\n",
       "      <td>-0.031376</td>\n",
       "      <td>-0.017554</td>\n",
       "      <td>-0.030459</td>\n",
       "      <td>-0.001961</td>\n",
       "    </tr>\n",
       "    <tr>\n",
       "      <td>2020-07-14</td>\n",
       "      <td>0.013100</td>\n",
       "      <td>0.006162</td>\n",
       "      <td>0.005691</td>\n",
       "      <td>-0.006464</td>\n",
       "      <td>0.032206</td>\n",
       "    </tr>\n",
       "    <tr>\n",
       "      <td>2020-07-15</td>\n",
       "      <td>0.019075</td>\n",
       "      <td>-0.001489</td>\n",
       "      <td>-0.002620</td>\n",
       "      <td>-0.024663</td>\n",
       "      <td>0.000039</td>\n",
       "    </tr>\n",
       "    <tr>\n",
       "      <td>2020-07-16</td>\n",
       "      <td>-0.029786</td>\n",
       "      <td>-0.020003</td>\n",
       "      <td>-0.001293</td>\n",
       "      <td>-0.002986</td>\n",
       "      <td>0.001086</td>\n",
       "    </tr>\n",
       "  </tbody>\n",
       "</table>\n",
       "<p>2518 rows × 5 columns</p>\n",
       "</div>"
      ],
      "text/plain": [
       "                TSLA      MSFT     GOOGL      AMZN        HD\n",
       "Date                                                        \n",
       "2010-07-16       NaN       NaN       NaN       NaN       NaN\n",
       "2010-07-19  0.059712  0.013568  0.014194  0.012163 -0.001476\n",
       "2010-07-20 -0.076322  0.009860  0.032521  0.001333  0.031275\n",
       "2010-07-21 -0.003949 -0.014229 -0.008529 -0.022482 -0.016607\n",
       "2010-07-22  0.037850  0.028259  0.015193  0.022232  0.026936\n",
       "...              ...       ...       ...       ...       ...\n",
       "2020-07-10  0.102419 -0.003037  0.013311  0.005443  0.008633\n",
       "2020-07-13 -0.031294 -0.031376 -0.017554 -0.030459 -0.001961\n",
       "2020-07-14  0.013100  0.006162  0.005691 -0.006464  0.032206\n",
       "2020-07-15  0.019075 -0.001489 -0.002620 -0.024663  0.000039\n",
       "2020-07-16 -0.029786 -0.020003 -0.001293 -0.002986  0.001086\n",
       "\n",
       "[2518 rows x 5 columns]"
      ]
     },
     "execution_count": 43,
     "metadata": {},
     "output_type": "execute_result"
    }
   ],
   "source": [
    "returns = np.log(data / data.shift(1))\n",
    "returns\n",
    "\n",
    "# log returns calculated\n",
    "# tells me more about the behavior of each stock\n",
    "# a stock that shows large deviations from its mean is more voltile"
   ]
  },
  {
   "cell_type": "markdown",
   "metadata": {},
   "source": [
    "STATS OF POPULAR SECURITIES"
   ]
  },
  {
   "cell_type": "code",
   "execution_count": 36,
   "metadata": {},
   "outputs": [
    {
     "name": "stdout",
     "output_type": "stream",
     "text": [
      "TSLA     0.001703\n",
      "MSFT     0.000929\n",
      "GOOGL    0.000749\n",
      "AMZN     0.001284\n",
      "HD       0.000989\n",
      "dtype: float64\n"
     ]
    }
   ],
   "source": [
    "print(returns[['TSLA','MSFT','GOOGL','AMZN','HD']].mean()) \n",
    "# daily average return"
   ]
  },
  {
   "cell_type": "code",
   "execution_count": 41,
   "metadata": {},
   "outputs": [
    {
     "data": {
      "text/plain": [
       "TSLA     0.425747\n",
       "MSFT     0.232321\n",
       "GOOGL    0.187216\n",
       "AMZN     0.320968\n",
       "HD       0.247144\n",
       "dtype: float64"
      ]
     },
     "execution_count": 41,
     "metadata": {},
     "output_type": "execute_result"
    }
   ],
   "source": [
    "returns[['TSLA','MSFT','GOOGL','AMZN','HD']].mean()*250 \n",
    "# annual rate of return"
   ]
  },
  {
   "cell_type": "code",
   "execution_count": 39,
   "metadata": {
    "scrolled": true
   },
   "outputs": [
    {
     "data": {
      "text/plain": [
       "TSLA     0.034106\n",
       "MSFT     0.015865\n",
       "GOOGL    0.016072\n",
       "AMZN     0.019666\n",
       "HD       0.014621\n",
       "dtype: float64"
      ]
     },
     "execution_count": 39,
     "metadata": {},
     "output_type": "execute_result"
    }
   ],
   "source": [
    "returns[['TSLA','MSFT','GOOGL','AMZN','HD']].std() \n",
    "# daily volatility of each stock"
   ]
  },
  {
   "cell_type": "code",
   "execution_count": 42,
   "metadata": {},
   "outputs": [
    {
     "data": {
      "text/plain": [
       "TSLA     0.539269\n",
       "MSFT     0.250840\n",
       "GOOGL    0.254127\n",
       "AMZN     0.310947\n",
       "HD       0.231174\n",
       "dtype: float64"
      ]
     },
     "execution_count": 42,
     "metadata": {},
     "output_type": "execute_result"
    }
   ],
   "source": [
    "returns[['TSLA','MSFT','GOOGL','AMZN','HD']].std()*250**0.5 \n",
    "#annual volatility of each stock"
   ]
  },
  {
   "cell_type": "code",
   "execution_count": null,
   "metadata": {},
   "outputs": [],
   "source": []
  }
 ],
 "metadata": {
  "kernelspec": {
   "display_name": "Python 3",
   "language": "python",
   "name": "python3"
  },
  "language_info": {
   "codemirror_mode": {
    "name": "ipython",
    "version": 3
   },
   "file_extension": ".py",
   "mimetype": "text/x-python",
   "name": "python",
   "nbconvert_exporter": "python",
   "pygments_lexer": "ipython3",
   "version": "3.7.4"
  }
 },
 "nbformat": 4,
 "nbformat_minor": 2
}
